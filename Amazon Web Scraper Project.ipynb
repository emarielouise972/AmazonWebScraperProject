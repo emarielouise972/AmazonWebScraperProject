{
 "cells": [
  {
   "cell_type": "code",
   "execution_count": 10,
   "id": "d9660603-5092-4c6e-ba18-836efa139955",
   "metadata": {},
   "outputs": [],
   "source": [
    "from bs4 import BeautifulSoup\n",
    "import requests\n",
    "import time\n",
    "import datetime\n",
    "\n",
    "import smtplib"
   ]
  },
  {
   "cell_type": "code",
   "execution_count": 11,
   "id": "97c37b2a-8c8e-44df-9de4-090fb254427f",
   "metadata": {
    "scrolled": true
   },
   "outputs": [
    {
     "name": "stdout",
     "output_type": "stream",
     "text": [
      "Le prix n'a pas été trouvé.\n",
      "\n",
      "                    Funny Got Data MIS Data Systems Business Analyst T-Shirt\n",
      "                   \n",
      "None\n"
     ]
    }
   ],
   "source": [
    "# se conecter au site\n",
    "\n",
    "URL = 'https://www.amazon.com/Funny-Data-Systems-Business-Analyst/dp/B07FNW9FGJ/ref=sr_1_3?dchild=1&keywords=data%2Banalyst%2Btshirt&qid=1626655184&sr=8-3&customId=B0752XJYNL&th=1&customizationToken=MC_Assembly_1%23B0752XJYNL'\n",
    "headers = {\"User-Agent\": \"Mozilla/5.0 (Windows NT 10.0; Win64; x64) AppleWebKit/537.36 (KHTML, like Gecko) Chrome/123.0.0.0 Safari/537.36 OPR/109.0.0.0\", \"Accept-Encoding\":\"gzip, deflate\", \"Accept\":\"text/html,application/xhtml+xml,application/xml;q=0.9,*/*;q=0.8\", \"DNT\":\"1\",\"Connection\":\"close\", \"Upgrade-Insecure-Requests\":\"1\"}\n",
    "page = requests.get(URL, headers = headers)\n",
    "soup1 = BeautifulSoup(page.content, \"html.parser\")\n",
    "\n",
    "soup2  = BeautifulSoup(soup1.prettify(), 'html.parser')\n",
    "\n",
    "title = soup2.find(id = 'productTitle').get_text()\n",
    "price = soup2.find(id=\"priceblock_ourprice\")\n",
    "if price is None:\n",
    "    price = soup2.find(id=\"priceblock_dealprice\")\n",
    "\n",
    "# Afficher le prix\n",
    "if price is not None:\n",
    "    print(\"Le prix du produit est:\", price.get_text())\n",
    "else:\n",
    "    print(\"Le prix n'a pas été trouvé.\")\n",
    "\n",
    "print(title)\n",
    "print(price)"
   ]
  },
  {
   "cell_type": "code",
   "execution_count": 12,
   "id": "ea8f651f-84d5-44b7-98c2-d78e78575d86",
   "metadata": {},
   "outputs": [
    {
     "name": "stdout",
     "output_type": "stream",
     "text": [
      "Funny Got Data MIS Data Systems Business Analyst T-Shirt\n"
     ]
    }
   ],
   "source": [
    "#price = price.strip()[1:]\n",
    "title = title.strip()\n",
    "price = 17\n",
    "print(title)\n",
    "#print(price)"
   ]
  },
  {
   "cell_type": "code",
   "execution_count": 14,
   "id": "58d23cd1-d1d8-4aa0-ae32-8274e187b449",
   "metadata": {},
   "outputs": [
    {
     "name": "stdout",
     "output_type": "stream",
     "text": [
      "2024-07-17\n"
     ]
    }
   ],
   "source": [
    "import datetime\n",
    "\n",
    "date = datetime.date.today()\n",
    "print(date)"
   ]
  },
  {
   "cell_type": "code",
   "execution_count": 15,
   "id": "f2c10197-170c-4e52-8384-fab69b8469b2",
   "metadata": {
    "scrolled": true
   },
   "outputs": [],
   "source": [
    "import csv\n",
    "\n",
    "header = ['Title', 'Price', 'Date']\n",
    "data = [title, price, date]\n",
    "type(data)\n",
    "\n",
    "\"\"\"\n",
    "with open('AmazonWebScraperDataSet.csv','w', newline='', encoding='UTF-8') as f: \n",
    "    writer = csv.writer(f)\n",
    "    writer.writerow(header)\n",
    "    writer.writerow(data)\n",
    "\"\"\"\n",
    "\n",
    "\n"
   ]
  },
  {
   "cell_type": "code",
   "execution_count": 16,
   "id": "87d27cc2-318e-40f9-b8fd-aaa458c551a4",
   "metadata": {},
   "outputs": [
    {
     "name": "stdout",
     "output_type": "stream",
     "text": [
      "Index(['Title', 'Price', 'Date'], dtype='object')\n",
      "                                               Title  Price        Date\n",
      "0  Funny Got Data MIS Data Systems Business Analy...     17  2024-07-17\n"
     ]
    }
   ],
   "source": [
    "import pandas as pd\n",
    "data_frame = pd.read_csv(r'C:\\Users\\Esteban\\AmazonWebScraperDataSet.csv')\n",
    "print(data_frame.columns)\n",
    "print(data_frame)"
   ]
  },
  {
   "cell_type": "code",
   "execution_count": 17,
   "id": "bb10f55b-5124-4572-a072-c274a9ae7b89",
   "metadata": {},
   "outputs": [],
   "source": [
    "# ajout des datas dans le csv\n",
    "\n",
    "with open('AmazonWebScraperDataSet.csv','a+', newline='', encoding='UTF-8') as f: \n",
    "    writer = csv.writer(f)\n",
    "    writer.writerow(data)"
   ]
  },
  {
   "cell_type": "code",
   "execution_count": 37,
   "id": "3a797c8b-9c00-426a-baac-fc3df2b01e6d",
   "metadata": {},
   "outputs": [],
   "source": [
    "def check_price():\n",
    "    URL = 'https://www.amazon.com/Funny-Data-Systems-Business-Analyst/dp/B07FNW9FGJ/ref=sr_1_3?dchild=1&keywords=data%2Banalyst%2Btshirt&qid=1626655184&sr=8-3&customId=B0752XJYNL&th=1&customizationToken=MC_Assembly_1%23B0752XJYNL'\n",
    "    headers = {\"User-Agent\": \"Mozilla/5.0 (Windows NT 10.0; Win64; x64) AppleWebKit/537.36 (KHTML, like Gecko) Chrome/123.0.0.0 Safari/537.36 OPR/109.0.0.0\", \"Accept-Encoding\":\"gzip, deflate\", \"Accept\":\"text/html,application/xhtml+xml,application/xml;q=0.9,*/*;q=0.8\", \"DNT\":\"1\",\"Connection\":\"close\", \"Upgrade-Insecure-Requests\":\"1\"}\n",
    "    page = requests.get(URL, headers = headers)\n",
    "    soup1 = BeautifulSoup(page.content, \"html.parser\")\n",
    "    \n",
    "    soup2  = BeautifulSoup(soup1.prettify(), 'html.parser')\n",
    "    \n",
    "    title = soup2.find(id = 'productTitle').get_text()\n",
    "    price = soup2.find(id=\"priceblock_ourprice\")\n",
    "    if price is None:\n",
    "        price = soup2.find(id=\"priceblock_dealprice\")\n",
    "    \n",
    "    # Afficher le prix\n",
    "    if price is not None:\n",
    "        print(\"Le prix du produit est:\", price.get_text())\n",
    "    else:\n",
    "        print(\"Le prix n'a pas été trouvé.\")\n",
    "    \n",
    "    import datetime\n",
    "\n",
    "    date = datetime.date.today()\n",
    "    print(date)\n",
    "    import csv\n",
    "\n",
    "    header = ['Title', 'Price', 'Date']\n",
    "    data = [title, price, date]\n",
    "\n",
    "    with open('AmazonWebScraperDataSet.csv','a+', newline='', encoding='UTF-8') as f: \n",
    "        writer = csv.writer(f)\n",
    "        writer.writerow(data)\n",
    "\n",
    "    if(price < 10):\n",
    "        send_mail()\n",
    "        "
   ]
  },
  {
   "cell_type": "code",
   "execution_count": 39,
   "id": "590fd291-b97d-4f21-8333-497be556b03b",
   "metadata": {},
   "outputs": [],
   "source": [
    "def send_mail():\n",
    "    server = smptplib.SMTP_SSL('smtp.gmail.com', 465)\n",
    "    server.ehlo()\n",
    "    server.login('esteban.marielouise@gmail.com','Esteban2004')\n",
    "\n",
    "    subject = \"le tshirt est desormais en dessous de 10$\"\n",
    "    body = \"Esteban c'est le bon moment pour acheter le tshirt qui est dans votre panier\"\n",
    "    msg = f\"Subject: {subject}\\n\\n{body}\"\n",
    "    server.sendmail(\n",
    "        'esteban.marielouise@gmail.com',\n",
    "        msg\n",
    "    )"
   ]
  },
  {
   "cell_type": "code",
   "execution_count": 41,
   "id": "fd49644f-b61e-4bf8-b774-984ee184fa2c",
   "metadata": {},
   "outputs": [],
   "source": [
    "def send_mail():\n",
    "    server = smtplib.SMTP_SSL('smtp.gmail.com', 465)\n",
    "    server.ehlo()\n",
    "    server.login('Esteban.marielouise@gmail.com','Esteban2004')\n",
    "\n",
    "    subject = \"le tshirt est desormais en dessous de 10$\"\n",
    "    body = \"Esteban c'est le bon moment pour acheter le tshirt qui est dans votre panier\"\n",
    "    msg = f\"Subject: {subject}\\n\\n{body}\"\n",
    "    server.sendmail(\n",
    "        'esteban.marielouise@gmail.com',  # Add a comma here\n",
    "        msg\n",
    "    )"
   ]
  },
  {
   "cell_type": "code",
   "execution_count": null,
   "id": "4a2932c7-837a-40ce-a7ff-af671a0170c0",
   "metadata": {},
   "outputs": [],
   "source": []
  }
 ],
 "metadata": {
  "kernelspec": {
   "display_name": "Python 3 (ipykernel)",
   "language": "python",
   "name": "python3"
  },
  "language_info": {
   "codemirror_mode": {
    "name": "ipython",
    "version": 3
   },
   "file_extension": ".py",
   "mimetype": "text/x-python",
   "name": "python",
   "nbconvert_exporter": "python",
   "pygments_lexer": "ipython3",
   "version": "3.12.4"
  }
 },
 "nbformat": 4,
 "nbformat_minor": 5
}
